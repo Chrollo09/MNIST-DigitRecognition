{
  "nbformat": 4,
  "nbformat_minor": 0,
  "metadata": {
    "colab": {
      "provenance": [],
      "authorship_tag": "ABX9TyMQQRZuim8Vhq4Br5F2/qn9",
      "include_colab_link": true
    },
    "kernelspec": {
      "name": "python3",
      "display_name": "Python 3"
    },
    "language_info": {
      "name": "python"
    }
  },
  "cells": [
    {
      "cell_type": "markdown",
      "metadata": {
        "id": "view-in-github",
        "colab_type": "text"
      },
      "source": [
        "<a href=\"https://colab.research.google.com/github/Chrollo09/MNIST-DigitRecognition/blob/main/DigitRecogntion.ipynb\" target=\"_parent\"><img src=\"https://colab.research.google.com/assets/colab-badge.svg\" alt=\"Open In Colab\"/></a>"
      ]
    },
    {
      "cell_type": "markdown",
      "source": [
        "Importing required libraries"
      ],
      "metadata": {
        "id": "pAY-uL-Ny35k"
      }
    },
    {
      "cell_type": "code",
      "execution_count": 20,
      "metadata": {
        "id": "QeUzl_i1iD9t"
      },
      "outputs": [],
      "source": [
        "import numpy as np\n",
        "import pandas as pd\n",
        "import matplotlib.pyplot as plt"
      ]
    },
    {
      "cell_type": "markdown",
      "source": [
        "Adding the data set"
      ],
      "metadata": {
        "id": "kljnRU2Odelh"
      }
    },
    {
      "cell_type": "code",
      "source": [
        "data = pd.read_csv('sample_data/mnist_train_small.csv')"
      ],
      "metadata": {
        "id": "V2zwUF9pdhSK"
      },
      "execution_count": 21,
      "outputs": []
    },
    {
      "cell_type": "markdown",
      "source": [
        "Creating training data"
      ],
      "metadata": {
        "id": "g2lA-T8Vp656"
      }
    },
    {
      "cell_type": "code",
      "source": [
        "data = np.array(data)\n",
        "m, n = data.shape\n",
        "\n",
        "data_dev = data[0:1000].T\n",
        "Y_dev = data_dev[0]\n",
        "X_dev = data_dev[1:n]\n",
        "X_dev = X_dev / 255.\n",
        "\n",
        "data_train = data[1000:m].T\n",
        "Y_train = data_train[0]\n",
        "X_train = data_train[1:n]\n",
        "X_train = X_train / 255.\n",
        "n_train, m_train = X_train.shape"
      ],
      "metadata": {
        "id": "sioadrJwqBfK"
      },
      "execution_count": 22,
      "outputs": []
    },
    {
      "cell_type": "markdown",
      "source": [
        "Shape of our dataset"
      ],
      "metadata": {
        "id": "_aMuHsqT1Eiz"
      }
    },
    {
      "cell_type": "code",
      "source": [
        "print(f\"The shape of X_train data is:{X_train.shape}\")\n",
        "print(f\"The shape of Y_train data is:{Y_train.shape}\")"
      ],
      "metadata": {
        "colab": {
          "base_uri": "https://localhost:8080/"
        },
        "id": "vQ0ZDZQG1EBU",
        "outputId": "24319dff-2947-44b4-d2d3-81fb5d1c9804"
      },
      "execution_count": 37,
      "outputs": [
        {
          "output_type": "stream",
          "name": "stdout",
          "text": [
            "The shape of X_train data is:(784, 18999)\n",
            "The shape of Y_train data is:(18999,)\n"
          ]
        }
      ]
    },
    {
      "cell_type": "markdown",
      "source": [
        "Defining our W and B parameters"
      ],
      "metadata": {
        "id": "zdVKpBzurK-r"
      }
    },
    {
      "cell_type": "code",
      "source": [
        "def init_params():\n",
        "    W1 = np.random.rand(20, 784) - 0.5\n",
        "    B1 = np.random.rand(20, 18999) - 0.5\n",
        "    W2 = np.random.rand(10, 20) - 0.5\n",
        "    B2 = np.random.rand(10, 18999) - 0.5\n",
        "    return W1, B1, W2, B2"
      ],
      "metadata": {
        "id": "CkvxKVTMrOd8"
      },
      "execution_count": 23,
      "outputs": []
    },
    {
      "cell_type": "markdown",
      "source": [
        "ReLu function"
      ],
      "metadata": {
        "id": "IKsaNfdfsqP2"
      }
    },
    {
      "cell_type": "code",
      "source": [
        "def ReLu(Z):\n",
        "    A = np.maximum(0,Z)\n",
        "    return A"
      ],
      "metadata": {
        "id": "l7NEi-89srzf"
      },
      "execution_count": 24,
      "outputs": []
    },
    {
      "cell_type": "markdown",
      "source": [
        "Softmax function"
      ],
      "metadata": {
        "id": "0iypyyF-tN6S"
      }
    },
    {
      "cell_type": "code",
      "source": [
        "def softmax(Z):\n",
        "    A = np.exp(Z) / sum(np.exp(Z))\n",
        "    return A"
      ],
      "metadata": {
        "id": "t_7O7ZEgtPRm"
      },
      "execution_count": 25,
      "outputs": []
    },
    {
      "cell_type": "markdown",
      "source": [
        "One Hot Y function"
      ],
      "metadata": {
        "id": "a1NB5pjzGS3U"
      }
    },
    {
      "cell_type": "code",
      "source": [
        "def one_hot(Y):\n",
        "    one_hot_Y = np.zeros((Y.max() + 1, Y.size))\n",
        "    one_hot_Y[Y, np.arange(Y.size)] = 1;\n",
        "    return one_hot_Y"
      ],
      "metadata": {
        "id": "-mo86_7_GcnA"
      },
      "execution_count": 26,
      "outputs": []
    },
    {
      "cell_type": "markdown",
      "source": [
        "Derivative of relu function"
      ],
      "metadata": {
        "id": "EH4O5dyNJP_p"
      }
    },
    {
      "cell_type": "code",
      "source": [
        "def ReLu_deriv(Z):\n",
        "    return Z > 0"
      ],
      "metadata": {
        "id": "vKRkjq-6JRbn"
      },
      "execution_count": 27,
      "outputs": []
    },
    {
      "cell_type": "markdown",
      "source": [
        "Forward prop function"
      ],
      "metadata": {
        "id": "K2yEDtpmsNfR"
      }
    },
    {
      "cell_type": "code",
      "source": [
        "def forward_prop(W1, B1, W2, B2, X):\n",
        "    Z1 = np.dot(W1, X) + B1\n",
        "    A1 = ReLu(Z1)\n",
        "    Z2 = np.dot(W2, A1) + B2\n",
        "    A2 = softmax(Z2)\n",
        "    return Z1, A1, Z2, A2"
      ],
      "metadata": {
        "id": "6RkUPST0sQaN"
      },
      "execution_count": 28,
      "outputs": []
    },
    {
      "cell_type": "markdown",
      "source": [
        "Backward Propagation"
      ],
      "metadata": {
        "id": "-McLni7muSG2"
      }
    },
    {
      "cell_type": "code",
      "source": [
        "def back_prop(Z1, A1, Z2, A2, W2, X, Y):\n",
        "    m = Y.size\n",
        "    Y_true = one_hot(Y)\n",
        "    loss2 = A2 - Y_true\n",
        "    dW2 = 1 / m * loss2.dot(A1.T)\n",
        "    dB2 = 1 / m * np.sum(loss2)\n",
        "    loss1 = W2.T.dot(loss2) * ReLu_deriv(Z1)\n",
        "    dW1 = 1 / m * loss1.dot(X_train.T)\n",
        "    dB1 = 1 / m * np.sum(loss1)\n",
        "    return dW1, dB1, dW2, dB2\n"
      ],
      "metadata": {
        "id": "7FaLRiH9LISw"
      },
      "execution_count": 29,
      "outputs": []
    },
    {
      "cell_type": "markdown",
      "source": [
        "Update Parameters"
      ],
      "metadata": {
        "id": "gMBkBntTJDmz"
      }
    },
    {
      "cell_type": "code",
      "source": [
        "def update_params(W1, B1, W2, B2, dW1, dB1, dW2, dB2, alpha):\n",
        "    alpha = 0.1\n",
        "    W1 = W1 - alpha * dW1\n",
        "    B1 = B1 - alpha * dB1\n",
        "    W2 = W2 - alpha * dW2\n",
        "    B2 = B2 - alpha * dB2\n",
        "    return W1, B1, W2, B2"
      ],
      "metadata": {
        "id": "JnBWaH3qJFU3"
      },
      "execution_count": 30,
      "outputs": []
    },
    {
      "cell_type": "markdown",
      "source": [
        "Predictions"
      ],
      "metadata": {
        "id": "QgUFSK7TMdH7"
      }
    },
    {
      "cell_type": "code",
      "source": [
        "def get_predictions(A2):\n",
        "    return np.argmax(A2, 0)"
      ],
      "metadata": {
        "id": "QG90_0KVMdb3"
      },
      "execution_count": 31,
      "outputs": []
    },
    {
      "cell_type": "markdown",
      "source": [
        "Accuracy"
      ],
      "metadata": {
        "id": "VYVc_iwEMjty"
      }
    },
    {
      "cell_type": "code",
      "source": [
        "def get_accuracy(predictions, Y):\n",
        "    print(predictions, Y)\n",
        "    return np.sum(predictions == Y) / Y.size"
      ],
      "metadata": {
        "id": "UkzZqa0dMiaN"
      },
      "execution_count": 32,
      "outputs": []
    },
    {
      "cell_type": "markdown",
      "source": [
        "Gradient Descent"
      ],
      "metadata": {
        "id": "f5sir8MGJ1Yk"
      }
    },
    {
      "cell_type": "code",
      "source": [
        "def grad_descent(X, Y, alpha, iterations):\n",
        "    W1, B1, W2, B2 = init_params()\n",
        "    for i in range(iterations):\n",
        "        Z1, A1, Z2, A2 = forward_prop(W1, B1, W2, B2, X)\n",
        "        dW1, dB1, dW2, dB2 = back_prop(Z1, A1, Z2, A2, W2, X, Y)\n",
        "        W1, B1, W2, B2 = update_params(W1, B1, W2, B2, dW1, dB1, dW2, dB2, alpha)\n",
        "        if i % 20 == 0:\n",
        "            print(\"Iteration: \", i)\n",
        "            predictions = get_predictions(A2)\n",
        "            print(get_accuracy(predictions, Y))\n",
        "    return W1, B1, W2, B2\n"
      ],
      "metadata": {
        "id": "8xrXvgG6J3go"
      },
      "execution_count": 33,
      "outputs": []
    },
    {
      "cell_type": "markdown",
      "source": [
        "Calling Gradient Descent"
      ],
      "metadata": {
        "id": "ok_XOc34M7VA"
      }
    },
    {
      "cell_type": "code",
      "source": [
        "W1, B1, W2, B2 = grad_descent(X_train, Y_train, 0.1, 500)"
      ],
      "metadata": {
        "colab": {
          "base_uri": "https://localhost:8080/"
        },
        "id": "K084mIv_M6VT",
        "outputId": "7bc1e9ef-ccbd-490d-f980-014416fb0265"
      },
      "execution_count": 35,
      "outputs": [
        {
          "output_type": "stream",
          "name": "stdout",
          "text": [
            "Iteration:  0\n",
            "[9 9 9 ... 3 9 6] [9 1 0 ... 2 9 5]\n",
            "0.10263698089373124\n",
            "Iteration:  20\n",
            "[8 1 0 ... 2 8 6] [9 1 0 ... 2 9 5]\n",
            "0.42939102058003054\n",
            "Iteration:  40\n",
            "[8 1 0 ... 2 9 4] [9 1 0 ... 2 9 5]\n",
            "0.5873993368072004\n",
            "Iteration:  60\n",
            "[8 1 0 ... 2 9 5] [9 1 0 ... 2 9 5]\n",
            "0.6658245170798464\n",
            "Iteration:  80\n",
            "[8 1 0 ... 2 9 5] [9 1 0 ... 2 9 5]\n",
            "0.7089846834043897\n",
            "Iteration:  100\n",
            "[8 1 0 ... 2 9 5] [9 1 0 ... 2 9 5]\n",
            "0.7371440602136955\n",
            "Iteration:  120\n",
            "[8 1 0 ... 2 9 5] [9 1 0 ... 2 9 5]\n",
            "0.755408179377862\n",
            "Iteration:  140\n",
            "[9 1 0 ... 2 9 5] [9 1 0 ... 2 9 5]\n",
            "0.7689878414653403\n",
            "Iteration:  160\n",
            "[9 1 0 ... 2 9 5] [9 1 0 ... 2 9 5]\n",
            "0.7823043318069373\n",
            "Iteration:  180\n",
            "[9 1 0 ... 2 9 5] [9 1 0 ... 2 9 5]\n",
            "0.7946207695141849\n",
            "Iteration:  200\n",
            "[9 1 0 ... 2 9 5] [9 1 0 ... 2 9 5]\n",
            "0.8042002210642666\n",
            "Iteration:  220\n",
            "[9 1 0 ... 2 9 5] [9 1 0 ... 2 9 5]\n",
            "0.8124638138849413\n",
            "Iteration:  240\n",
            "[9 1 0 ... 2 9 5] [9 1 0 ... 2 9 5]\n",
            "0.8187273014369177\n",
            "Iteration:  260\n",
            "[9 1 0 ... 2 9 5] [9 1 0 ... 2 9 5]\n",
            "0.8262013790199484\n",
            "Iteration:  280\n",
            "[9 1 0 ... 2 9 5] [9 1 0 ... 2 9 5]\n",
            "0.8313595452392231\n",
            "Iteration:  300\n",
            "[9 1 0 ... 2 9 5] [9 1 0 ... 2 9 5]\n",
            "0.8359387336175588\n",
            "Iteration:  320\n",
            "[9 1 0 ... 2 9 5] [9 1 0 ... 2 9 5]\n",
            "0.8400442128533081\n",
            "Iteration:  340\n",
            "[9 1 0 ... 2 9 5] [9 1 0 ... 2 9 5]\n",
            "0.8443602294857624\n",
            "Iteration:  360\n",
            "[9 1 0 ... 2 9 5] [9 1 0 ... 2 9 5]\n",
            "0.8473603873888099\n",
            "Iteration:  380\n",
            "[9 1 0 ... 2 9 5] [9 1 0 ... 2 9 5]\n",
            "0.8503605452918575\n",
            "Iteration:  400\n",
            "[9 1 0 ... 2 9 5] [9 1 0 ... 2 9 5]\n",
            "0.8536238749407864\n",
            "Iteration:  420\n",
            "[9 1 0 ... 2 9 5] [9 1 0 ... 2 9 5]\n",
            "0.8570451076372441\n",
            "Iteration:  440\n",
            "[9 1 0 ... 2 9 5] [9 1 0 ... 2 9 5]\n",
            "0.8597294594452339\n",
            "Iteration:  460\n",
            "[9 1 0 ... 2 9 5] [9 1 0 ... 2 9 5]\n",
            "0.8627822516974578\n",
            "Iteration:  480\n",
            "[9 1 0 ... 2 9 5] [9 1 0 ... 2 9 5]\n",
            "0.8659403126480341\n"
          ]
        }
      ]
    }
  ]
}